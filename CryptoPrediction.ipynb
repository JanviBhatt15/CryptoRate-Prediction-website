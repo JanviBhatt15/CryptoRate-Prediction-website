{
  "nbformat": 4,
  "nbformat_minor": 0,
  "metadata": {
    "colab": {
      "provenance": []
    },
    "kernelspec": {
      "name": "python3",
      "display_name": "Python 3"
    },
    "language_info": {
      "name": "python"
    }
  },
  "cells": [
    {
      "cell_type": "code",
      "execution_count": 1,
      "metadata": {
        "colab": {
          "base_uri": "https://localhost:8080/"
        },
        "id": "n92GJyy2Oekw",
        "outputId": "221600d2-b30c-4b4a-96d7-0135f768d481"
      },
      "outputs": [
        {
          "output_type": "stream",
          "name": "stdout",
          "text": [
            "Requirement already satisfied: pandas_datareader in /usr/local/lib/python3.10/dist-packages (0.10.0)\n",
            "Requirement already satisfied: lxml in /usr/local/lib/python3.10/dist-packages (from pandas_datareader) (4.9.3)\n",
            "Requirement already satisfied: pandas>=0.23 in /usr/local/lib/python3.10/dist-packages (from pandas_datareader) (1.5.3)\n",
            "Requirement already satisfied: requests>=2.19.0 in /usr/local/lib/python3.10/dist-packages (from pandas_datareader) (2.31.0)\n",
            "Requirement already satisfied: python-dateutil>=2.8.1 in /usr/local/lib/python3.10/dist-packages (from pandas>=0.23->pandas_datareader) (2.8.2)\n",
            "Requirement already satisfied: pytz>=2020.1 in /usr/local/lib/python3.10/dist-packages (from pandas>=0.23->pandas_datareader) (2023.3.post1)\n",
            "Requirement already satisfied: numpy>=1.21.0 in /usr/local/lib/python3.10/dist-packages (from pandas>=0.23->pandas_datareader) (1.23.5)\n",
            "Requirement already satisfied: charset-normalizer<4,>=2 in /usr/local/lib/python3.10/dist-packages (from requests>=2.19.0->pandas_datareader) (3.3.2)\n",
            "Requirement already satisfied: idna<4,>=2.5 in /usr/local/lib/python3.10/dist-packages (from requests>=2.19.0->pandas_datareader) (3.4)\n",
            "Requirement already satisfied: urllib3<3,>=1.21.1 in /usr/local/lib/python3.10/dist-packages (from requests>=2.19.0->pandas_datareader) (2.0.7)\n",
            "Requirement already satisfied: certifi>=2017.4.17 in /usr/local/lib/python3.10/dist-packages (from requests>=2.19.0->pandas_datareader) (2023.7.22)\n",
            "Requirement already satisfied: six>=1.5 in /usr/local/lib/python3.10/dist-packages (from python-dateutil>=2.8.1->pandas>=0.23->pandas_datareader) (1.16.0)\n"
          ]
        }
      ],
      "source": [
        "pip install pandas_datareader\n"
      ]
    },
    {
      "cell_type": "code",
      "source": [
        "from keras.preprocessing.sequence import TimeseriesGenerator\n",
        "import datetime as dt, pandas_datareader\n",
        "import pandas as pd\n",
        "import numpy as np\n",
        "from pandas_datareader import data\n",
        "from keras.models import Sequential\n",
        "from keras.layers import LSTM\n",
        "from keras.layers import Dense\n",
        "from keras.layers import Bidirectional\n",
        "from keras.layers import SimpleRNN\n",
        "import yfinance as yf"
      ],
      "metadata": {
        "id": "_Fa6sIN1OlOG"
      },
      "execution_count": 2,
      "outputs": []
    },
    {
      "cell_type": "code",
      "source": [
        "symbol = 'BTC-USD'\n",
        "start_date = dt.datetime(2010, 1, 1)\n",
        "end_date = dt.datetime.now()"
      ],
      "metadata": {
        "id": "SfAKYB2DOoBG"
      },
      "execution_count": 3,
      "outputs": []
    },
    {
      "cell_type": "code",
      "source": [
        "df = yf.download(symbol, start=start_date, end=end_date)\n"
      ],
      "metadata": {
        "colab": {
          "base_uri": "https://localhost:8080/"
        },
        "id": "zrugFQ_AOrY2",
        "outputId": "27c34e0f-6276-4eba-8782-f4d6179fa74d"
      },
      "execution_count": 4,
      "outputs": [
        {
          "output_type": "stream",
          "name": "stdout",
          "text": [
            "\r[*********************100%%**********************]  1 of 1 completed\n"
          ]
        }
      ]
    },
    {
      "cell_type": "code",
      "source": [
        "df.head(5)"
      ],
      "metadata": {
        "colab": {
          "base_uri": "https://localhost:8080/",
          "height": 237
        },
        "id": "PWE1U5n6OufO",
        "outputId": "3e3ec91b-2077-47bb-f836-dcd31274b846"
      },
      "execution_count": 5,
      "outputs": [
        {
          "output_type": "execute_result",
          "data": {
            "text/plain": [
              "                  Open        High         Low       Close   Adj Close  \\\n",
              "Date                                                                     \n",
              "2014-09-17  465.864014  468.174011  452.421997  457.334015  457.334015   \n",
              "2014-09-18  456.859985  456.859985  413.104004  424.440002  424.440002   \n",
              "2014-09-19  424.102997  427.834991  384.532013  394.795990  394.795990   \n",
              "2014-09-20  394.673004  423.295990  389.882996  408.903992  408.903992   \n",
              "2014-09-21  408.084991  412.425995  393.181000  398.821014  398.821014   \n",
              "\n",
              "              Volume  \n",
              "Date                  \n",
              "2014-09-17  21056800  \n",
              "2014-09-18  34483200  \n",
              "2014-09-19  37919700  \n",
              "2014-09-20  36863600  \n",
              "2014-09-21  26580100  "
            ],
            "text/html": [
              "\n",
              "  <div id=\"df-197db59e-976d-41be-8d48-ce6963a00db4\" class=\"colab-df-container\">\n",
              "    <div>\n",
              "<style scoped>\n",
              "    .dataframe tbody tr th:only-of-type {\n",
              "        vertical-align: middle;\n",
              "    }\n",
              "\n",
              "    .dataframe tbody tr th {\n",
              "        vertical-align: top;\n",
              "    }\n",
              "\n",
              "    .dataframe thead th {\n",
              "        text-align: right;\n",
              "    }\n",
              "</style>\n",
              "<table border=\"1\" class=\"dataframe\">\n",
              "  <thead>\n",
              "    <tr style=\"text-align: right;\">\n",
              "      <th></th>\n",
              "      <th>Open</th>\n",
              "      <th>High</th>\n",
              "      <th>Low</th>\n",
              "      <th>Close</th>\n",
              "      <th>Adj Close</th>\n",
              "      <th>Volume</th>\n",
              "    </tr>\n",
              "    <tr>\n",
              "      <th>Date</th>\n",
              "      <th></th>\n",
              "      <th></th>\n",
              "      <th></th>\n",
              "      <th></th>\n",
              "      <th></th>\n",
              "      <th></th>\n",
              "    </tr>\n",
              "  </thead>\n",
              "  <tbody>\n",
              "    <tr>\n",
              "      <th>2014-09-17</th>\n",
              "      <td>465.864014</td>\n",
              "      <td>468.174011</td>\n",
              "      <td>452.421997</td>\n",
              "      <td>457.334015</td>\n",
              "      <td>457.334015</td>\n",
              "      <td>21056800</td>\n",
              "    </tr>\n",
              "    <tr>\n",
              "      <th>2014-09-18</th>\n",
              "      <td>456.859985</td>\n",
              "      <td>456.859985</td>\n",
              "      <td>413.104004</td>\n",
              "      <td>424.440002</td>\n",
              "      <td>424.440002</td>\n",
              "      <td>34483200</td>\n",
              "    </tr>\n",
              "    <tr>\n",
              "      <th>2014-09-19</th>\n",
              "      <td>424.102997</td>\n",
              "      <td>427.834991</td>\n",
              "      <td>384.532013</td>\n",
              "      <td>394.795990</td>\n",
              "      <td>394.795990</td>\n",
              "      <td>37919700</td>\n",
              "    </tr>\n",
              "    <tr>\n",
              "      <th>2014-09-20</th>\n",
              "      <td>394.673004</td>\n",
              "      <td>423.295990</td>\n",
              "      <td>389.882996</td>\n",
              "      <td>408.903992</td>\n",
              "      <td>408.903992</td>\n",
              "      <td>36863600</td>\n",
              "    </tr>\n",
              "    <tr>\n",
              "      <th>2014-09-21</th>\n",
              "      <td>408.084991</td>\n",
              "      <td>412.425995</td>\n",
              "      <td>393.181000</td>\n",
              "      <td>398.821014</td>\n",
              "      <td>398.821014</td>\n",
              "      <td>26580100</td>\n",
              "    </tr>\n",
              "  </tbody>\n",
              "</table>\n",
              "</div>\n",
              "    <div class=\"colab-df-buttons\">\n",
              "\n",
              "  <div class=\"colab-df-container\">\n",
              "    <button class=\"colab-df-convert\" onclick=\"convertToInteractive('df-197db59e-976d-41be-8d48-ce6963a00db4')\"\n",
              "            title=\"Convert this dataframe to an interactive table.\"\n",
              "            style=\"display:none;\">\n",
              "\n",
              "  <svg xmlns=\"http://www.w3.org/2000/svg\" height=\"24px\" viewBox=\"0 -960 960 960\">\n",
              "    <path d=\"M120-120v-720h720v720H120Zm60-500h600v-160H180v160Zm220 220h160v-160H400v160Zm0 220h160v-160H400v160ZM180-400h160v-160H180v160Zm440 0h160v-160H620v160ZM180-180h160v-160H180v160Zm440 0h160v-160H620v160Z\"/>\n",
              "  </svg>\n",
              "    </button>\n",
              "\n",
              "  <style>\n",
              "    .colab-df-container {\n",
              "      display:flex;\n",
              "      gap: 12px;\n",
              "    }\n",
              "\n",
              "    .colab-df-convert {\n",
              "      background-color: #E8F0FE;\n",
              "      border: none;\n",
              "      border-radius: 50%;\n",
              "      cursor: pointer;\n",
              "      display: none;\n",
              "      fill: #1967D2;\n",
              "      height: 32px;\n",
              "      padding: 0 0 0 0;\n",
              "      width: 32px;\n",
              "    }\n",
              "\n",
              "    .colab-df-convert:hover {\n",
              "      background-color: #E2EBFA;\n",
              "      box-shadow: 0px 1px 2px rgba(60, 64, 67, 0.3), 0px 1px 3px 1px rgba(60, 64, 67, 0.15);\n",
              "      fill: #174EA6;\n",
              "    }\n",
              "\n",
              "    .colab-df-buttons div {\n",
              "      margin-bottom: 4px;\n",
              "    }\n",
              "\n",
              "    [theme=dark] .colab-df-convert {\n",
              "      background-color: #3B4455;\n",
              "      fill: #D2E3FC;\n",
              "    }\n",
              "\n",
              "    [theme=dark] .colab-df-convert:hover {\n",
              "      background-color: #434B5C;\n",
              "      box-shadow: 0px 1px 3px 1px rgba(0, 0, 0, 0.15);\n",
              "      filter: drop-shadow(0px 1px 2px rgba(0, 0, 0, 0.3));\n",
              "      fill: #FFFFFF;\n",
              "    }\n",
              "  </style>\n",
              "\n",
              "    <script>\n",
              "      const buttonEl =\n",
              "        document.querySelector('#df-197db59e-976d-41be-8d48-ce6963a00db4 button.colab-df-convert');\n",
              "      buttonEl.style.display =\n",
              "        google.colab.kernel.accessAllowed ? 'block' : 'none';\n",
              "\n",
              "      async function convertToInteractive(key) {\n",
              "        const element = document.querySelector('#df-197db59e-976d-41be-8d48-ce6963a00db4');\n",
              "        const dataTable =\n",
              "          await google.colab.kernel.invokeFunction('convertToInteractive',\n",
              "                                                    [key], {});\n",
              "        if (!dataTable) return;\n",
              "\n",
              "        const docLinkHtml = 'Like what you see? Visit the ' +\n",
              "          '<a target=\"_blank\" href=https://colab.research.google.com/notebooks/data_table.ipynb>data table notebook</a>'\n",
              "          + ' to learn more about interactive tables.';\n",
              "        element.innerHTML = '';\n",
              "        dataTable['output_type'] = 'display_data';\n",
              "        await google.colab.output.renderOutput(dataTable, element);\n",
              "        const docLink = document.createElement('div');\n",
              "        docLink.innerHTML = docLinkHtml;\n",
              "        element.appendChild(docLink);\n",
              "      }\n",
              "    </script>\n",
              "  </div>\n",
              "\n",
              "\n",
              "<div id=\"df-c999a749-ea06-4ea0-a5ca-a6a867558c8d\">\n",
              "  <button class=\"colab-df-quickchart\" onclick=\"quickchart('df-c999a749-ea06-4ea0-a5ca-a6a867558c8d')\"\n",
              "            title=\"Suggest charts\"\n",
              "            style=\"display:none;\">\n",
              "\n",
              "<svg xmlns=\"http://www.w3.org/2000/svg\" height=\"24px\"viewBox=\"0 0 24 24\"\n",
              "     width=\"24px\">\n",
              "    <g>\n",
              "        <path d=\"M19 3H5c-1.1 0-2 .9-2 2v14c0 1.1.9 2 2 2h14c1.1 0 2-.9 2-2V5c0-1.1-.9-2-2-2zM9 17H7v-7h2v7zm4 0h-2V7h2v10zm4 0h-2v-4h2v4z\"/>\n",
              "    </g>\n",
              "</svg>\n",
              "  </button>\n",
              "\n",
              "<style>\n",
              "  .colab-df-quickchart {\n",
              "      --bg-color: #E8F0FE;\n",
              "      --fill-color: #1967D2;\n",
              "      --hover-bg-color: #E2EBFA;\n",
              "      --hover-fill-color: #174EA6;\n",
              "      --disabled-fill-color: #AAA;\n",
              "      --disabled-bg-color: #DDD;\n",
              "  }\n",
              "\n",
              "  [theme=dark] .colab-df-quickchart {\n",
              "      --bg-color: #3B4455;\n",
              "      --fill-color: #D2E3FC;\n",
              "      --hover-bg-color: #434B5C;\n",
              "      --hover-fill-color: #FFFFFF;\n",
              "      --disabled-bg-color: #3B4455;\n",
              "      --disabled-fill-color: #666;\n",
              "  }\n",
              "\n",
              "  .colab-df-quickchart {\n",
              "    background-color: var(--bg-color);\n",
              "    border: none;\n",
              "    border-radius: 50%;\n",
              "    cursor: pointer;\n",
              "    display: none;\n",
              "    fill: var(--fill-color);\n",
              "    height: 32px;\n",
              "    padding: 0;\n",
              "    width: 32px;\n",
              "  }\n",
              "\n",
              "  .colab-df-quickchart:hover {\n",
              "    background-color: var(--hover-bg-color);\n",
              "    box-shadow: 0 1px 2px rgba(60, 64, 67, 0.3), 0 1px 3px 1px rgba(60, 64, 67, 0.15);\n",
              "    fill: var(--button-hover-fill-color);\n",
              "  }\n",
              "\n",
              "  .colab-df-quickchart-complete:disabled,\n",
              "  .colab-df-quickchart-complete:disabled:hover {\n",
              "    background-color: var(--disabled-bg-color);\n",
              "    fill: var(--disabled-fill-color);\n",
              "    box-shadow: none;\n",
              "  }\n",
              "\n",
              "  .colab-df-spinner {\n",
              "    border: 2px solid var(--fill-color);\n",
              "    border-color: transparent;\n",
              "    border-bottom-color: var(--fill-color);\n",
              "    animation:\n",
              "      spin 1s steps(1) infinite;\n",
              "  }\n",
              "\n",
              "  @keyframes spin {\n",
              "    0% {\n",
              "      border-color: transparent;\n",
              "      border-bottom-color: var(--fill-color);\n",
              "      border-left-color: var(--fill-color);\n",
              "    }\n",
              "    20% {\n",
              "      border-color: transparent;\n",
              "      border-left-color: var(--fill-color);\n",
              "      border-top-color: var(--fill-color);\n",
              "    }\n",
              "    30% {\n",
              "      border-color: transparent;\n",
              "      border-left-color: var(--fill-color);\n",
              "      border-top-color: var(--fill-color);\n",
              "      border-right-color: var(--fill-color);\n",
              "    }\n",
              "    40% {\n",
              "      border-color: transparent;\n",
              "      border-right-color: var(--fill-color);\n",
              "      border-top-color: var(--fill-color);\n",
              "    }\n",
              "    60% {\n",
              "      border-color: transparent;\n",
              "      border-right-color: var(--fill-color);\n",
              "    }\n",
              "    80% {\n",
              "      border-color: transparent;\n",
              "      border-right-color: var(--fill-color);\n",
              "      border-bottom-color: var(--fill-color);\n",
              "    }\n",
              "    90% {\n",
              "      border-color: transparent;\n",
              "      border-bottom-color: var(--fill-color);\n",
              "    }\n",
              "  }\n",
              "</style>\n",
              "\n",
              "  <script>\n",
              "    async function quickchart(key) {\n",
              "      const quickchartButtonEl =\n",
              "        document.querySelector('#' + key + ' button');\n",
              "      quickchartButtonEl.disabled = true;  // To prevent multiple clicks.\n",
              "      quickchartButtonEl.classList.add('colab-df-spinner');\n",
              "      try {\n",
              "        const charts = await google.colab.kernel.invokeFunction(\n",
              "            'suggestCharts', [key], {});\n",
              "      } catch (error) {\n",
              "        console.error('Error during call to suggestCharts:', error);\n",
              "      }\n",
              "      quickchartButtonEl.classList.remove('colab-df-spinner');\n",
              "      quickchartButtonEl.classList.add('colab-df-quickchart-complete');\n",
              "    }\n",
              "    (() => {\n",
              "      let quickchartButtonEl =\n",
              "        document.querySelector('#df-c999a749-ea06-4ea0-a5ca-a6a867558c8d button');\n",
              "      quickchartButtonEl.style.display =\n",
              "        google.colab.kernel.accessAllowed ? 'block' : 'none';\n",
              "    })();\n",
              "  </script>\n",
              "</div>\n",
              "    </div>\n",
              "  </div>\n"
            ]
          },
          "metadata": {},
          "execution_count": 5
        }
      ]
    },
    {
      "cell_type": "code",
      "source": [
        "Data = df[\"Close\"]\n",
        "Data = pd.DataFrame(Data)\n",
        "print(type(Data))\n",
        "Data.head(5)"
      ],
      "metadata": {
        "colab": {
          "base_uri": "https://localhost:8080/",
          "height": 255
        },
        "id": "rPrZzdZXOvT_",
        "outputId": "2668e9b6-5b1a-481b-9718-84a3c58eb91f"
      },
      "execution_count": 6,
      "outputs": [
        {
          "output_type": "stream",
          "name": "stdout",
          "text": [
            "<class 'pandas.core.frame.DataFrame'>\n"
          ]
        },
        {
          "output_type": "execute_result",
          "data": {
            "text/plain": [
              "                 Close\n",
              "Date                  \n",
              "2014-09-17  457.334015\n",
              "2014-09-18  424.440002\n",
              "2014-09-19  394.795990\n",
              "2014-09-20  408.903992\n",
              "2014-09-21  398.821014"
            ],
            "text/html": [
              "\n",
              "  <div id=\"df-ad5911b2-cdbc-4702-8780-6f254e7c24f3\" class=\"colab-df-container\">\n",
              "    <div>\n",
              "<style scoped>\n",
              "    .dataframe tbody tr th:only-of-type {\n",
              "        vertical-align: middle;\n",
              "    }\n",
              "\n",
              "    .dataframe tbody tr th {\n",
              "        vertical-align: top;\n",
              "    }\n",
              "\n",
              "    .dataframe thead th {\n",
              "        text-align: right;\n",
              "    }\n",
              "</style>\n",
              "<table border=\"1\" class=\"dataframe\">\n",
              "  <thead>\n",
              "    <tr style=\"text-align: right;\">\n",
              "      <th></th>\n",
              "      <th>Close</th>\n",
              "    </tr>\n",
              "    <tr>\n",
              "      <th>Date</th>\n",
              "      <th></th>\n",
              "    </tr>\n",
              "  </thead>\n",
              "  <tbody>\n",
              "    <tr>\n",
              "      <th>2014-09-17</th>\n",
              "      <td>457.334015</td>\n",
              "    </tr>\n",
              "    <tr>\n",
              "      <th>2014-09-18</th>\n",
              "      <td>424.440002</td>\n",
              "    </tr>\n",
              "    <tr>\n",
              "      <th>2014-09-19</th>\n",
              "      <td>394.795990</td>\n",
              "    </tr>\n",
              "    <tr>\n",
              "      <th>2014-09-20</th>\n",
              "      <td>408.903992</td>\n",
              "    </tr>\n",
              "    <tr>\n",
              "      <th>2014-09-21</th>\n",
              "      <td>398.821014</td>\n",
              "    </tr>\n",
              "  </tbody>\n",
              "</table>\n",
              "</div>\n",
              "    <div class=\"colab-df-buttons\">\n",
              "\n",
              "  <div class=\"colab-df-container\">\n",
              "    <button class=\"colab-df-convert\" onclick=\"convertToInteractive('df-ad5911b2-cdbc-4702-8780-6f254e7c24f3')\"\n",
              "            title=\"Convert this dataframe to an interactive table.\"\n",
              "            style=\"display:none;\">\n",
              "\n",
              "  <svg xmlns=\"http://www.w3.org/2000/svg\" height=\"24px\" viewBox=\"0 -960 960 960\">\n",
              "    <path d=\"M120-120v-720h720v720H120Zm60-500h600v-160H180v160Zm220 220h160v-160H400v160Zm0 220h160v-160H400v160ZM180-400h160v-160H180v160Zm440 0h160v-160H620v160ZM180-180h160v-160H180v160Zm440 0h160v-160H620v160Z\"/>\n",
              "  </svg>\n",
              "    </button>\n",
              "\n",
              "  <style>\n",
              "    .colab-df-container {\n",
              "      display:flex;\n",
              "      gap: 12px;\n",
              "    }\n",
              "\n",
              "    .colab-df-convert {\n",
              "      background-color: #E8F0FE;\n",
              "      border: none;\n",
              "      border-radius: 50%;\n",
              "      cursor: pointer;\n",
              "      display: none;\n",
              "      fill: #1967D2;\n",
              "      height: 32px;\n",
              "      padding: 0 0 0 0;\n",
              "      width: 32px;\n",
              "    }\n",
              "\n",
              "    .colab-df-convert:hover {\n",
              "      background-color: #E2EBFA;\n",
              "      box-shadow: 0px 1px 2px rgba(60, 64, 67, 0.3), 0px 1px 3px 1px rgba(60, 64, 67, 0.15);\n",
              "      fill: #174EA6;\n",
              "    }\n",
              "\n",
              "    .colab-df-buttons div {\n",
              "      margin-bottom: 4px;\n",
              "    }\n",
              "\n",
              "    [theme=dark] .colab-df-convert {\n",
              "      background-color: #3B4455;\n",
              "      fill: #D2E3FC;\n",
              "    }\n",
              "\n",
              "    [theme=dark] .colab-df-convert:hover {\n",
              "      background-color: #434B5C;\n",
              "      box-shadow: 0px 1px 3px 1px rgba(0, 0, 0, 0.15);\n",
              "      filter: drop-shadow(0px 1px 2px rgba(0, 0, 0, 0.3));\n",
              "      fill: #FFFFFF;\n",
              "    }\n",
              "  </style>\n",
              "\n",
              "    <script>\n",
              "      const buttonEl =\n",
              "        document.querySelector('#df-ad5911b2-cdbc-4702-8780-6f254e7c24f3 button.colab-df-convert');\n",
              "      buttonEl.style.display =\n",
              "        google.colab.kernel.accessAllowed ? 'block' : 'none';\n",
              "\n",
              "      async function convertToInteractive(key) {\n",
              "        const element = document.querySelector('#df-ad5911b2-cdbc-4702-8780-6f254e7c24f3');\n",
              "        const dataTable =\n",
              "          await google.colab.kernel.invokeFunction('convertToInteractive',\n",
              "                                                    [key], {});\n",
              "        if (!dataTable) return;\n",
              "\n",
              "        const docLinkHtml = 'Like what you see? Visit the ' +\n",
              "          '<a target=\"_blank\" href=https://colab.research.google.com/notebooks/data_table.ipynb>data table notebook</a>'\n",
              "          + ' to learn more about interactive tables.';\n",
              "        element.innerHTML = '';\n",
              "        dataTable['output_type'] = 'display_data';\n",
              "        await google.colab.output.renderOutput(dataTable, element);\n",
              "        const docLink = document.createElement('div');\n",
              "        docLink.innerHTML = docLinkHtml;\n",
              "        element.appendChild(docLink);\n",
              "      }\n",
              "    </script>\n",
              "  </div>\n",
              "\n",
              "\n",
              "<div id=\"df-6919ed53-a575-4e52-87eb-6f26a8190a8c\">\n",
              "  <button class=\"colab-df-quickchart\" onclick=\"quickchart('df-6919ed53-a575-4e52-87eb-6f26a8190a8c')\"\n",
              "            title=\"Suggest charts\"\n",
              "            style=\"display:none;\">\n",
              "\n",
              "<svg xmlns=\"http://www.w3.org/2000/svg\" height=\"24px\"viewBox=\"0 0 24 24\"\n",
              "     width=\"24px\">\n",
              "    <g>\n",
              "        <path d=\"M19 3H5c-1.1 0-2 .9-2 2v14c0 1.1.9 2 2 2h14c1.1 0 2-.9 2-2V5c0-1.1-.9-2-2-2zM9 17H7v-7h2v7zm4 0h-2V7h2v10zm4 0h-2v-4h2v4z\"/>\n",
              "    </g>\n",
              "</svg>\n",
              "  </button>\n",
              "\n",
              "<style>\n",
              "  .colab-df-quickchart {\n",
              "      --bg-color: #E8F0FE;\n",
              "      --fill-color: #1967D2;\n",
              "      --hover-bg-color: #E2EBFA;\n",
              "      --hover-fill-color: #174EA6;\n",
              "      --disabled-fill-color: #AAA;\n",
              "      --disabled-bg-color: #DDD;\n",
              "  }\n",
              "\n",
              "  [theme=dark] .colab-df-quickchart {\n",
              "      --bg-color: #3B4455;\n",
              "      --fill-color: #D2E3FC;\n",
              "      --hover-bg-color: #434B5C;\n",
              "      --hover-fill-color: #FFFFFF;\n",
              "      --disabled-bg-color: #3B4455;\n",
              "      --disabled-fill-color: #666;\n",
              "  }\n",
              "\n",
              "  .colab-df-quickchart {\n",
              "    background-color: var(--bg-color);\n",
              "    border: none;\n",
              "    border-radius: 50%;\n",
              "    cursor: pointer;\n",
              "    display: none;\n",
              "    fill: var(--fill-color);\n",
              "    height: 32px;\n",
              "    padding: 0;\n",
              "    width: 32px;\n",
              "  }\n",
              "\n",
              "  .colab-df-quickchart:hover {\n",
              "    background-color: var(--hover-bg-color);\n",
              "    box-shadow: 0 1px 2px rgba(60, 64, 67, 0.3), 0 1px 3px 1px rgba(60, 64, 67, 0.15);\n",
              "    fill: var(--button-hover-fill-color);\n",
              "  }\n",
              "\n",
              "  .colab-df-quickchart-complete:disabled,\n",
              "  .colab-df-quickchart-complete:disabled:hover {\n",
              "    background-color: var(--disabled-bg-color);\n",
              "    fill: var(--disabled-fill-color);\n",
              "    box-shadow: none;\n",
              "  }\n",
              "\n",
              "  .colab-df-spinner {\n",
              "    border: 2px solid var(--fill-color);\n",
              "    border-color: transparent;\n",
              "    border-bottom-color: var(--fill-color);\n",
              "    animation:\n",
              "      spin 1s steps(1) infinite;\n",
              "  }\n",
              "\n",
              "  @keyframes spin {\n",
              "    0% {\n",
              "      border-color: transparent;\n",
              "      border-bottom-color: var(--fill-color);\n",
              "      border-left-color: var(--fill-color);\n",
              "    }\n",
              "    20% {\n",
              "      border-color: transparent;\n",
              "      border-left-color: var(--fill-color);\n",
              "      border-top-color: var(--fill-color);\n",
              "    }\n",
              "    30% {\n",
              "      border-color: transparent;\n",
              "      border-left-color: var(--fill-color);\n",
              "      border-top-color: var(--fill-color);\n",
              "      border-right-color: var(--fill-color);\n",
              "    }\n",
              "    40% {\n",
              "      border-color: transparent;\n",
              "      border-right-color: var(--fill-color);\n",
              "      border-top-color: var(--fill-color);\n",
              "    }\n",
              "    60% {\n",
              "      border-color: transparent;\n",
              "      border-right-color: var(--fill-color);\n",
              "    }\n",
              "    80% {\n",
              "      border-color: transparent;\n",
              "      border-right-color: var(--fill-color);\n",
              "      border-bottom-color: var(--fill-color);\n",
              "    }\n",
              "    90% {\n",
              "      border-color: transparent;\n",
              "      border-bottom-color: var(--fill-color);\n",
              "    }\n",
              "  }\n",
              "</style>\n",
              "\n",
              "  <script>\n",
              "    async function quickchart(key) {\n",
              "      const quickchartButtonEl =\n",
              "        document.querySelector('#' + key + ' button');\n",
              "      quickchartButtonEl.disabled = true;  // To prevent multiple clicks.\n",
              "      quickchartButtonEl.classList.add('colab-df-spinner');\n",
              "      try {\n",
              "        const charts = await google.colab.kernel.invokeFunction(\n",
              "            'suggestCharts', [key], {});\n",
              "      } catch (error) {\n",
              "        console.error('Error during call to suggestCharts:', error);\n",
              "      }\n",
              "      quickchartButtonEl.classList.remove('colab-df-spinner');\n",
              "      quickchartButtonEl.classList.add('colab-df-quickchart-complete');\n",
              "    }\n",
              "    (() => {\n",
              "      let quickchartButtonEl =\n",
              "        document.querySelector('#df-6919ed53-a575-4e52-87eb-6f26a8190a8c button');\n",
              "      quickchartButtonEl.style.display =\n",
              "        google.colab.kernel.accessAllowed ? 'block' : 'none';\n",
              "    })();\n",
              "  </script>\n",
              "</div>\n",
              "    </div>\n",
              "  </div>\n"
            ]
          },
          "metadata": {},
          "execution_count": 6
        }
      ]
    },
    {
      "cell_type": "code",
      "source": [
        "from sklearn import preprocessing\n",
        "scaler = preprocessing.MinMaxScaler(feature_range=(0,1))\n",
        "scaledData = scaler.fit_transform(Data)"
      ],
      "metadata": {
        "id": "9IVZzZnIOxTu"
      },
      "execution_count": 9,
      "outputs": []
    },
    {
      "cell_type": "code",
      "source": [
        "len(df)"
      ],
      "metadata": {
        "colab": {
          "base_uri": "https://localhost:8080/"
        },
        "id": "sHl52-BjO2jG",
        "outputId": "cadac546-d2f8-4f2e-ef4a-87653b4b3141"
      },
      "execution_count": 10,
      "outputs": [
        {
          "output_type": "execute_result",
          "data": {
            "text/plain": [
              "3362"
            ]
          },
          "metadata": {},
          "execution_count": 10
        }
      ]
    },
    {
      "cell_type": "code",
      "source": [
        "train = scaledData[:2700]\n",
        "validation = scaledData[2700:2900]\n",
        "test = scaledData[2900:]"
      ],
      "metadata": {
        "id": "NTzl1NGWO8mo"
      },
      "execution_count": 11,
      "outputs": []
    },
    {
      "cell_type": "code",
      "source": [
        "print(train.shape)\n",
        "print(validation.shape)\n",
        "print(test.shape)\n"
      ],
      "metadata": {
        "colab": {
          "base_uri": "https://localhost:8080/"
        },
        "id": "n8RhfUW-O-qH",
        "outputId": "e245b8db-78d2-48ee-b0c6-20138e499384"
      },
      "execution_count": 12,
      "outputs": [
        {
          "output_type": "stream",
          "name": "stdout",
          "text": [
            "(2700, 1)\n",
            "(200, 1)\n",
            "(462, 1)\n"
          ]
        }
      ]
    },
    {
      "cell_type": "code",
      "source": [
        "trainGen = TimeseriesGenerator(data=train,targets=train,length=2,\n",
        "                              sampling_rate=1,stride=1,\n",
        "                              shuffle=False,reverse=False,\n",
        "                              batch_size=8)\n",
        "valGen = TimeseriesGenerator(data=validation,targets=validation,length=2,\n",
        "                              sampling_rate=1,stride=1,\n",
        "                              shuffle=False,reverse=False,\n",
        "                              batch_size=8)\n",
        "testGen = TimeseriesGenerator(data=test,targets=test,length=2,\n",
        "                              sampling_rate=1,stride=1,\n",
        "                              shuffle=False,reverse=False,\n",
        "                              batch_size=8)"
      ],
      "metadata": {
        "id": "c8bH4rV7PAiG"
      },
      "execution_count": 13,
      "outputs": []
    },
    {
      "cell_type": "code",
      "source": [
        "BTC = Sequential()\n",
        "BTC.add(LSTM(32,return_sequences=False, input_shape=(2,1)))\n",
        "BTC.add(Dense(1))\n",
        "print(BTC.summary())"
      ],
      "metadata": {
        "colab": {
          "base_uri": "https://localhost:8080/"
        },
        "id": "V-sYXrJcPCn3",
        "outputId": "35fdebac-ec1b-4d21-a681-664dadca49e4"
      },
      "execution_count": 14,
      "outputs": [
        {
          "output_type": "stream",
          "name": "stdout",
          "text": [
            "Model: \"sequential\"\n",
            "_________________________________________________________________\n",
            " Layer (type)                Output Shape              Param #   \n",
            "=================================================================\n",
            " lstm (LSTM)                 (None, 32)                4352      \n",
            "                                                                 \n",
            " dense (Dense)               (None, 1)                 33        \n",
            "                                                                 \n",
            "=================================================================\n",
            "Total params: 4385 (17.13 KB)\n",
            "Trainable params: 4385 (17.13 KB)\n",
            "Non-trainable params: 0 (0.00 Byte)\n",
            "_________________________________________________________________\n",
            "None\n"
          ]
        }
      ]
    },
    {
      "cell_type": "code",
      "source": [
        "BTC.compile(loss='mean_absolute_error',optimizer='adam',metrics=['mae','mse'])\n",
        "history = BTC.fit_generator(trainGen,validation_data=valGen,\n",
        "                   epochs=50,verbose = 1)"
      ],
      "metadata": {
        "colab": {
          "base_uri": "https://localhost:8080/"
        },
        "id": "DbV08nODPFkO",
        "outputId": "1242be0e-cb2a-4ee0-ad0d-968971586f0c"
      },
      "execution_count": 15,
      "outputs": [
        {
          "output_type": "stream",
          "name": "stderr",
          "text": [
            "<ipython-input-15-e9e194ad175a>:2: UserWarning: `Model.fit_generator` is deprecated and will be removed in a future version. Please use `Model.fit`, which supports generators.\n",
            "  history = BTC.fit_generator(trainGen,validation_data=valGen,\n"
          ]
        },
        {
          "output_type": "stream",
          "name": "stdout",
          "text": [
            "Epoch 1/50\n",
            "338/338 [==============================] - 8s 8ms/step - loss: 0.0540 - mae: 0.0540 - mse: 0.0156 - val_loss: 0.0162 - val_mae: 0.0162 - val_mse: 4.5658e-04\n",
            "Epoch 2/50\n",
            "338/338 [==============================] - 1s 4ms/step - loss: 0.0084 - mae: 0.0084 - mse: 2.7449e-04 - val_loss: 0.0165 - val_mae: 0.0165 - val_mse: 4.7603e-04\n",
            "Epoch 3/50\n",
            "338/338 [==============================] - 1s 4ms/step - loss: 0.0074 - mae: 0.0074 - mse: 2.1543e-04 - val_loss: 0.0171 - val_mae: 0.0171 - val_mse: 5.2776e-04\n",
            "Epoch 4/50\n",
            "338/338 [==============================] - 1s 4ms/step - loss: 0.0069 - mae: 0.0069 - mse: 1.9982e-04 - val_loss: 0.0232 - val_mae: 0.0232 - val_mse: 8.5710e-04\n",
            "Epoch 5/50\n",
            "338/338 [==============================] - 1s 4ms/step - loss: 0.0074 - mae: 0.0074 - mse: 2.0114e-04 - val_loss: 0.0154 - val_mae: 0.0154 - val_mse: 4.4586e-04\n",
            "Epoch 6/50\n",
            "338/338 [==============================] - 1s 4ms/step - loss: 0.0077 - mae: 0.0077 - mse: 2.3979e-04 - val_loss: 0.0148 - val_mae: 0.0148 - val_mse: 4.1141e-04\n",
            "Epoch 7/50\n",
            "338/338 [==============================] - 2s 6ms/step - loss: 0.0071 - mae: 0.0071 - mse: 2.0393e-04 - val_loss: 0.0288 - val_mae: 0.0288 - val_mse: 0.0012\n",
            "Epoch 8/50\n",
            "338/338 [==============================] - 1s 4ms/step - loss: 0.0073 - mae: 0.0073 - mse: 2.0679e-04 - val_loss: 0.0216 - val_mae: 0.0216 - val_mse: 7.6071e-04\n",
            "Epoch 9/50\n",
            "338/338 [==============================] - 1s 4ms/step - loss: 0.0070 - mae: 0.0070 - mse: 2.0324e-04 - val_loss: 0.0156 - val_mae: 0.0156 - val_mse: 4.5158e-04\n",
            "Epoch 10/50\n",
            "338/338 [==============================] - 1s 4ms/step - loss: 0.0068 - mae: 0.0068 - mse: 2.0012e-04 - val_loss: 0.0153 - val_mae: 0.0153 - val_mse: 4.3567e-04\n",
            "Epoch 11/50\n",
            "338/338 [==============================] - 1s 4ms/step - loss: 0.0069 - mae: 0.0069 - mse: 1.9371e-04 - val_loss: 0.0142 - val_mae: 0.0142 - val_mse: 3.8428e-04\n",
            "Epoch 12/50\n",
            "338/338 [==============================] - 2s 5ms/step - loss: 0.0072 - mae: 0.0072 - mse: 1.9830e-04 - val_loss: 0.0162 - val_mae: 0.0162 - val_mse: 4.6606e-04\n",
            "Epoch 13/50\n",
            "338/338 [==============================] - 2s 6ms/step - loss: 0.0069 - mae: 0.0069 - mse: 1.8973e-04 - val_loss: 0.0185 - val_mae: 0.0185 - val_mse: 5.9388e-04\n",
            "Epoch 14/50\n",
            "338/338 [==============================] - 1s 4ms/step - loss: 0.0068 - mae: 0.0068 - mse: 1.9243e-04 - val_loss: 0.0245 - val_mae: 0.0245 - val_mse: 9.3080e-04\n",
            "Epoch 15/50\n",
            "338/338 [==============================] - 1s 4ms/step - loss: 0.0069 - mae: 0.0069 - mse: 1.8884e-04 - val_loss: 0.0186 - val_mae: 0.0186 - val_mse: 5.9549e-04\n",
            "Epoch 16/50\n",
            "338/338 [==============================] - 1s 4ms/step - loss: 0.0070 - mae: 0.0070 - mse: 2.0884e-04 - val_loss: 0.0139 - val_mae: 0.0139 - val_mse: 3.6880e-04\n",
            "Epoch 17/50\n",
            "338/338 [==============================] - 1s 4ms/step - loss: 0.0066 - mae: 0.0066 - mse: 1.8607e-04 - val_loss: 0.0151 - val_mae: 0.0151 - val_mse: 4.2743e-04\n",
            "Epoch 18/50\n",
            "338/338 [==============================] - 2s 5ms/step - loss: 0.0069 - mae: 0.0069 - mse: 1.9473e-04 - val_loss: 0.0146 - val_mae: 0.0146 - val_mse: 4.0586e-04\n",
            "Epoch 19/50\n",
            "338/338 [==============================] - 2s 6ms/step - loss: 0.0069 - mae: 0.0069 - mse: 1.8281e-04 - val_loss: 0.0177 - val_mae: 0.0177 - val_mse: 5.3801e-04\n",
            "Epoch 20/50\n",
            "338/338 [==============================] - 1s 4ms/step - loss: 0.0069 - mae: 0.0069 - mse: 1.9805e-04 - val_loss: 0.0143 - val_mae: 0.0143 - val_mse: 3.8757e-04\n",
            "Epoch 21/50\n",
            "338/338 [==============================] - 1s 4ms/step - loss: 0.0067 - mae: 0.0067 - mse: 1.9959e-04 - val_loss: 0.0146 - val_mae: 0.0146 - val_mse: 4.0754e-04\n",
            "Epoch 22/50\n",
            "338/338 [==============================] - 1s 4ms/step - loss: 0.0066 - mae: 0.0066 - mse: 1.8630e-04 - val_loss: 0.0182 - val_mae: 0.0182 - val_mse: 5.8623e-04\n",
            "Epoch 23/50\n",
            "338/338 [==============================] - 1s 4ms/step - loss: 0.0071 - mae: 0.0071 - mse: 2.0484e-04 - val_loss: 0.0159 - val_mae: 0.0159 - val_mse: 4.6288e-04\n",
            "Epoch 24/50\n",
            "338/338 [==============================] - 1s 4ms/step - loss: 0.0069 - mae: 0.0069 - mse: 1.9419e-04 - val_loss: 0.0141 - val_mae: 0.0141 - val_mse: 3.7552e-04\n",
            "Epoch 25/50\n",
            "338/338 [==============================] - 2s 6ms/step - loss: 0.0067 - mae: 0.0067 - mse: 1.8020e-04 - val_loss: 0.0140 - val_mae: 0.0140 - val_mse: 3.7167e-04\n",
            "Epoch 26/50\n",
            "338/338 [==============================] - 1s 4ms/step - loss: 0.0068 - mae: 0.0068 - mse: 1.9143e-04 - val_loss: 0.0136 - val_mae: 0.0136 - val_mse: 3.5504e-04\n",
            "Epoch 27/50\n",
            "338/338 [==============================] - 1s 4ms/step - loss: 0.0064 - mae: 0.0064 - mse: 1.6837e-04 - val_loss: 0.0151 - val_mae: 0.0151 - val_mse: 4.2508e-04\n",
            "Epoch 28/50\n",
            "338/338 [==============================] - 1s 4ms/step - loss: 0.0067 - mae: 0.0067 - mse: 1.8179e-04 - val_loss: 0.0135 - val_mae: 0.0135 - val_mse: 3.4683e-04\n",
            "Epoch 29/50\n",
            "338/338 [==============================] - 1s 4ms/step - loss: 0.0066 - mae: 0.0066 - mse: 1.7997e-04 - val_loss: 0.0155 - val_mae: 0.0155 - val_mse: 4.4187e-04\n",
            "Epoch 30/50\n",
            "338/338 [==============================] - 1s 4ms/step - loss: 0.0065 - mae: 0.0065 - mse: 1.7817e-04 - val_loss: 0.0139 - val_mae: 0.0139 - val_mse: 3.7265e-04\n",
            "Epoch 31/50\n",
            "338/338 [==============================] - 2s 6ms/step - loss: 0.0062 - mae: 0.0062 - mse: 1.7164e-04 - val_loss: 0.0134 - val_mae: 0.0134 - val_mse: 3.4043e-04\n",
            "Epoch 32/50\n",
            "338/338 [==============================] - 2s 5ms/step - loss: 0.0064 - mae: 0.0064 - mse: 1.7890e-04 - val_loss: 0.0143 - val_mae: 0.0143 - val_mse: 3.8760e-04\n",
            "Epoch 33/50\n",
            "338/338 [==============================] - 1s 4ms/step - loss: 0.0064 - mae: 0.0064 - mse: 1.6315e-04 - val_loss: 0.0226 - val_mae: 0.0226 - val_mse: 7.7706e-04\n",
            "Epoch 34/50\n",
            "338/338 [==============================] - 2s 6ms/step - loss: 0.0064 - mae: 0.0064 - mse: 1.7140e-04 - val_loss: 0.0209 - val_mae: 0.0209 - val_mse: 6.9686e-04\n",
            "Epoch 35/50\n",
            "338/338 [==============================] - 1s 4ms/step - loss: 0.0064 - mae: 0.0064 - mse: 1.7364e-04 - val_loss: 0.0222 - val_mae: 0.0222 - val_mse: 7.6421e-04\n",
            "Epoch 36/50\n",
            "338/338 [==============================] - 2s 5ms/step - loss: 0.0066 - mae: 0.0066 - mse: 1.7778e-04 - val_loss: 0.0164 - val_mae: 0.0164 - val_mse: 4.6824e-04\n",
            "Epoch 37/50\n",
            "338/338 [==============================] - 4s 12ms/step - loss: 0.0063 - mae: 0.0063 - mse: 1.6741e-04 - val_loss: 0.0135 - val_mae: 0.0135 - val_mse: 3.5334e-04\n",
            "Epoch 38/50\n",
            "338/338 [==============================] - 3s 8ms/step - loss: 0.0061 - mae: 0.0061 - mse: 1.6405e-04 - val_loss: 0.0128 - val_mae: 0.0128 - val_mse: 3.2089e-04\n",
            "Epoch 39/50\n",
            "338/338 [==============================] - 1s 4ms/step - loss: 0.0062 - mae: 0.0062 - mse: 1.5638e-04 - val_loss: 0.0133 - val_mae: 0.0133 - val_mse: 3.4311e-04\n",
            "Epoch 40/50\n",
            "338/338 [==============================] - 1s 4ms/step - loss: 0.0064 - mae: 0.0064 - mse: 1.6797e-04 - val_loss: 0.0135 - val_mae: 0.0135 - val_mse: 3.4952e-04\n",
            "Epoch 41/50\n",
            "338/338 [==============================] - 2s 6ms/step - loss: 0.0059 - mae: 0.0059 - mse: 1.6203e-04 - val_loss: 0.0143 - val_mae: 0.0143 - val_mse: 3.8388e-04\n",
            "Epoch 42/50\n",
            "338/338 [==============================] - 3s 10ms/step - loss: 0.0062 - mae: 0.0062 - mse: 1.6317e-04 - val_loss: 0.0127 - val_mae: 0.0127 - val_mse: 3.2061e-04\n",
            "Epoch 43/50\n",
            "338/338 [==============================] - 3s 9ms/step - loss: 0.0060 - mae: 0.0060 - mse: 1.5682e-04 - val_loss: 0.0134 - val_mae: 0.0134 - val_mse: 3.5137e-04\n",
            "Epoch 44/50\n",
            "338/338 [==============================] - 3s 9ms/step - loss: 0.0059 - mae: 0.0059 - mse: 1.5782e-04 - val_loss: 0.0134 - val_mae: 0.0134 - val_mse: 3.5532e-04\n",
            "Epoch 45/50\n",
            "338/338 [==============================] - 3s 9ms/step - loss: 0.0059 - mae: 0.0059 - mse: 1.5401e-04 - val_loss: 0.0129 - val_mae: 0.0129 - val_mse: 3.3042e-04\n",
            "Epoch 46/50\n",
            "338/338 [==============================] - 2s 7ms/step - loss: 0.0064 - mae: 0.0064 - mse: 1.6574e-04 - val_loss: 0.0138 - val_mae: 0.0138 - val_mse: 3.6193e-04\n",
            "Epoch 47/50\n",
            "338/338 [==============================] - 2s 7ms/step - loss: 0.0063 - mae: 0.0063 - mse: 1.6062e-04 - val_loss: 0.0156 - val_mae: 0.0156 - val_mse: 4.4124e-04\n",
            "Epoch 48/50\n",
            "338/338 [==============================] - 1s 4ms/step - loss: 0.0062 - mae: 0.0062 - mse: 1.6739e-04 - val_loss: 0.0224 - val_mae: 0.0224 - val_mse: 7.5506e-04\n",
            "Epoch 49/50\n",
            "338/338 [==============================] - 1s 4ms/step - loss: 0.0060 - mae: 0.0060 - mse: 1.5065e-04 - val_loss: 0.0124 - val_mae: 0.0124 - val_mse: 3.0443e-04\n",
            "Epoch 50/50\n",
            "338/338 [==============================] - 2s 6ms/step - loss: 0.0060 - mae: 0.0060 - mse: 1.6045e-04 - val_loss: 0.0149 - val_mae: 0.0149 - val_mse: 4.1626e-04\n"
          ]
        }
      ]
    },
    {
      "cell_type": "code",
      "source": [
        "import matplotlib.pyplot as plt\n",
        "%matplotlib inline\n",
        "plt.figure(figsize=[9,7])\n",
        "plt.plot(history.history['loss'],'r',linewidth=3.0)\n",
        "plt.legend(['Training loss', 'Validation Loss'],fontsize=18)\n",
        "plt.xlabel('Epochs ',fontsize=16)\n",
        "plt.ylabel('Loss',fontsize=16)\n",
        "plt.title('Loss Curves',fontsize=16)\n",
        "plt.grid(True)"
      ],
      "metadata": {
        "colab": {
          "base_uri": "https://localhost:8080/",
          "height": 649
        },
        "id": "j_mCuXxsPH6u",
        "outputId": "474f5a79-37d6-4b32-cb10-f6dd0563f3c5"
      },
      "execution_count": 17,
      "outputs": [
        {
          "output_type": "display_data",
          "data": {
            "text/plain": [
              "<Figure size 900x700 with 1 Axes>"
            ],
            "image/png": "[encoded data removed]"
          },
          "metadata": {}
        }
      ]
    },
    {
      "cell_type": "code",
      "source": [
        "predictions = BTC.predict_generator(testGen)\n",
        "predictions = scaler.inverse_transform(predictions)\n",
        "test = scaler.inverse_transform(test)\n"
      ],
      "metadata": {
        "colab": {
          "base_uri": "https://localhost:8080/"
        },
        "id": "Oms0BM2cPhVx",
        "outputId": "a790a4aa-2528-4a29-aff5-a79020359003"
      },
      "execution_count": 18,
      "outputs": [
        {
          "output_type": "stream",
          "name": "stderr",
          "text": [
            "<ipython-input-18-aa0502828116>:1: UserWarning: `Model.predict_generator` is deprecated and will be removed in a future version. Please use `Model.predict`, which supports generators.\n",
            "  predictions = BTC.predict_generator(testGen)\n"
          ]
        }
      ]
    },
    {
      "cell_type": "code",
      "source": [
        "plt.figure(figsize=[7,5])\n",
        "plt.plot(predictions,'--',label='Predictions')\n",
        "plt.plot(test,label='Actual')\n",
        "plt.xlabel(\"Observation\")\n",
        "plt.ylabel(\"Price\")\n",
        "plt.title(\"BTC Rate Prediction Vs. Actual\")\n",
        "plt.legend()\n",
        "plt.grid(True)\n",
        "plt.show()"
      ],
      "metadata": {
        "colab": {
          "base_uri": "https://localhost:8080/",
          "height": 487
        },
        "id": "kTSymWP1PjVt",
        "outputId": "f351bcfa-ea4a-482b-a2df-e8d2687c6523"
      },
      "execution_count": 19,
      "outputs": [
        {
          "output_type": "display_data",
          "data": {
            "text/plain": [
              "<Figure size 700x500 with 1 Axes>"
            ],
            "image/png": "[encoded data removed]"
          },
          "metadata": {}
        }
      ]
    },
    {
      "cell_type": "code",
      "source": [
        "PresentRate = df[\"Close\"].iloc[-1]"
      ],
      "metadata": {
        "id": "gttuEZO0PlsA"
      },
      "execution_count": 20,
      "outputs": []
    },
    {
      "cell_type": "code",
      "source": [
        "print(PresentRate)"
      ],
      "metadata": {
        "colab": {
          "base_uri": "https://localhost:8080/"
        },
        "id": "rrVxru_BP_EQ",
        "outputId": "9a9975ef-975f-47bd-9142-345a83b399dc"
      },
      "execution_count": 21,
      "outputs": [
        {
          "output_type": "stream",
          "name": "stdout",
          "text": [
            "37904.71484375\n"
          ]
        }
      ]
    },
    {
      "cell_type": "code",
      "source": [
        "PredictedRate = predictions[-1][0]"
      ],
      "metadata": {
        "id": "EvcNxc81QCK-"
      },
      "execution_count": 22,
      "outputs": []
    },
    {
      "cell_type": "code",
      "source": [
        "print(PredictedRate)"
      ],
      "metadata": {
        "colab": {
          "base_uri": "https://localhost:8080/"
        },
        "id": "bDcOvK5TQHFm",
        "outputId": "6354e479-e65f-4c87-f960-f4f41f9e4608"
      },
      "execution_count": 23,
      "outputs": [
        {
          "output_type": "stream",
          "name": "stdout",
          "text": [
            "38042.047\n"
          ]
        }
      ]
    },
    {
      "cell_type": "code",
      "source": [
        "if PredictedRate > PresentRate:\n",
        "  print(\"It is recommended to buy crypto.\")\n",
        "elif PredictedRate< PresentRate:\n",
        "  print(\"It is not recommended to buy crypto. It is recommended to sell your crypto.\")\n",
        "else:\n",
        "  print(\"The predicted rate is similar to the present rate. Consider holding your crypto\")"
      ],
      "metadata": {
        "colab": {
          "base_uri": "https://localhost:8080/"
        },
        "id": "L0Rx8M5rQKUg",
        "outputId": "85db16ad-b003-422c-d402-0046c093fb82"
      },
      "execution_count": 24,
      "outputs": [
        {
          "output_type": "stream",
          "name": "stdout",
          "text": [
            "It is recommended to buy crypto.\n"
          ]
        }
      ]
    }
  ]
}